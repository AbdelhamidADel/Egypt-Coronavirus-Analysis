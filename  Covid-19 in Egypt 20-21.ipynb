{
 "cells": [
  {
   "cell_type": "code",
   "execution_count": 11,
   "metadata": {},
   "outputs": [],
   "source": [
    "#here we import our libraries\n",
    "import pandas as pd\n",
    "import matplotlib.pyplot as plt \n",
    "import numpy as np"
   ]
  },
  {
   "cell_type": "code",
   "execution_count": 25,
   "metadata": {},
   "outputs": [
    {
     "data": {
      "text/html": [
       "<div>\n",
       "<style scoped>\n",
       "    .dataframe tbody tr th:only-of-type {\n",
       "        vertical-align: middle;\n",
       "    }\n",
       "\n",
       "    .dataframe tbody tr th {\n",
       "        vertical-align: top;\n",
       "    }\n",
       "\n",
       "    .dataframe thead th {\n",
       "        text-align: right;\n",
       "    }\n",
       "</style>\n",
       "<table border=\"1\" class=\"dataframe\">\n",
       "  <thead>\n",
       "    <tr style=\"text-align: right;\">\n",
       "      <th></th>\n",
       "      <th>Date</th>\n",
       "      <th>Day</th>\n",
       "      <th>Month</th>\n",
       "      <th>New Cases</th>\n",
       "      <th>New Death</th>\n",
       "      <th>Total Recoverd</th>\n",
       "      <th>New Recovered</th>\n",
       "      <th>Total Death</th>\n",
       "      <th>Total Cases</th>\n",
       "      <th>Active Cases</th>\n",
       "    </tr>\n",
       "  </thead>\n",
       "  <tbody>\n",
       "    <tr>\n",
       "      <th>0</th>\n",
       "      <td>15/03/2020</td>\n",
       "      <td>Sunday</td>\n",
       "      <td>March</td>\n",
       "      <td>16</td>\n",
       "      <td>0</td>\n",
       "      <td>26</td>\n",
       "      <td>0</td>\n",
       "      <td>2</td>\n",
       "      <td>126</td>\n",
       "      <td>98</td>\n",
       "    </tr>\n",
       "    <tr>\n",
       "      <th>1</th>\n",
       "      <td>16/03/2020</td>\n",
       "      <td>Monday</td>\n",
       "      <td>March</td>\n",
       "      <td>40</td>\n",
       "      <td>2</td>\n",
       "      <td>26</td>\n",
       "      <td>0</td>\n",
       "      <td>4</td>\n",
       "      <td>166</td>\n",
       "      <td>136</td>\n",
       "    </tr>\n",
       "    <tr>\n",
       "      <th>2</th>\n",
       "      <td>17/03/2020</td>\n",
       "      <td>Tuesday</td>\n",
       "      <td>March</td>\n",
       "      <td>30</td>\n",
       "      <td>2</td>\n",
       "      <td>26</td>\n",
       "      <td>0</td>\n",
       "      <td>6</td>\n",
       "      <td>196</td>\n",
       "      <td>164</td>\n",
       "    </tr>\n",
       "    <tr>\n",
       "      <th>3</th>\n",
       "      <td>18/03/2020</td>\n",
       "      <td>Wednesday</td>\n",
       "      <td>March</td>\n",
       "      <td>14</td>\n",
       "      <td>0</td>\n",
       "      <td>28</td>\n",
       "      <td>2</td>\n",
       "      <td>6</td>\n",
       "      <td>210</td>\n",
       "      <td>176</td>\n",
       "    </tr>\n",
       "    <tr>\n",
       "      <th>4</th>\n",
       "      <td>19/03/2020</td>\n",
       "      <td>Thursday</td>\n",
       "      <td>March</td>\n",
       "      <td>46</td>\n",
       "      <td>1</td>\n",
       "      <td>28</td>\n",
       "      <td>0</td>\n",
       "      <td>7</td>\n",
       "      <td>256</td>\n",
       "      <td>221</td>\n",
       "    </tr>\n",
       "    <tr>\n",
       "      <th>...</th>\n",
       "      <td>...</td>\n",
       "      <td>...</td>\n",
       "      <td>...</td>\n",
       "      <td>...</td>\n",
       "      <td>...</td>\n",
       "      <td>...</td>\n",
       "      <td>...</td>\n",
       "      <td>...</td>\n",
       "      <td>...</td>\n",
       "      <td>...</td>\n",
       "    </tr>\n",
       "    <tr>\n",
       "      <th>515</th>\n",
       "      <td>12/08/2021</td>\n",
       "      <td>Thursday</td>\n",
       "      <td>August</td>\n",
       "      <td>95</td>\n",
       "      <td>7</td>\n",
       "      <td>233729</td>\n",
       "      <td>212</td>\n",
       "      <td>16604</td>\n",
       "      <td>285061</td>\n",
       "      <td>34728</td>\n",
       "    </tr>\n",
       "    <tr>\n",
       "      <th>516</th>\n",
       "      <td>13/08/2021</td>\n",
       "      <td>Friday</td>\n",
       "      <td>August</td>\n",
       "      <td>97</td>\n",
       "      <td>5</td>\n",
       "      <td>233772</td>\n",
       "      <td>43</td>\n",
       "      <td>16609</td>\n",
       "      <td>285158</td>\n",
       "      <td>34777</td>\n",
       "    </tr>\n",
       "    <tr>\n",
       "      <th>517</th>\n",
       "      <td>14/08/2021</td>\n",
       "      <td>Saturday</td>\n",
       "      <td>August</td>\n",
       "      <td>99</td>\n",
       "      <td>6</td>\n",
       "      <td>233881</td>\n",
       "      <td>109</td>\n",
       "      <td>16615</td>\n",
       "      <td>285257</td>\n",
       "      <td>34761</td>\n",
       "    </tr>\n",
       "    <tr>\n",
       "      <th>518</th>\n",
       "      <td>15/08/2021</td>\n",
       "      <td>Sunday</td>\n",
       "      <td>August</td>\n",
       "      <td>101</td>\n",
       "      <td>4</td>\n",
       "      <td>234114</td>\n",
       "      <td>233</td>\n",
       "      <td>16619</td>\n",
       "      <td>285358</td>\n",
       "      <td>34625</td>\n",
       "    </tr>\n",
       "    <tr>\n",
       "      <th>519</th>\n",
       "      <td>16/08/2021</td>\n",
       "      <td>Monday</td>\n",
       "      <td>August</td>\n",
       "      <td>107</td>\n",
       "      <td>6</td>\n",
       "      <td>234250</td>\n",
       "      <td>136</td>\n",
       "      <td>16625</td>\n",
       "      <td>285465</td>\n",
       "      <td>34590</td>\n",
       "    </tr>\n",
       "  </tbody>\n",
       "</table>\n",
       "<p>520 rows × 10 columns</p>\n",
       "</div>"
      ],
      "text/plain": [
       "           Date        Day   Month  New Cases  New Death  Total Recoverd  \\\n",
       "0    15/03/2020     Sunday   March         16          0              26   \n",
       "1    16/03/2020     Monday   March         40          2              26   \n",
       "2    17/03/2020    Tuesday   March         30          2              26   \n",
       "3    18/03/2020  Wednesday   March         14          0              28   \n",
       "4    19/03/2020   Thursday   March         46          1              28   \n",
       "..          ...        ...     ...        ...        ...             ...   \n",
       "515  12/08/2021   Thursday  August         95          7          233729   \n",
       "516  13/08/2021     Friday  August         97          5          233772   \n",
       "517  14/08/2021   Saturday  August         99          6          233881   \n",
       "518  15/08/2021     Sunday  August        101          4          234114   \n",
       "519  16/08/2021     Monday  August        107          6          234250   \n",
       "\n",
       "     New Recovered  Total Death  Total Cases  Active Cases  \n",
       "0                0            2          126            98  \n",
       "1                0            4          166           136  \n",
       "2                0            6          196           164  \n",
       "3                2            6          210           176  \n",
       "4                0            7          256           221  \n",
       "..             ...          ...          ...           ...  \n",
       "515            212        16604       285061         34728  \n",
       "516             43        16609       285158         34777  \n",
       "517            109        16615       285257         34761  \n",
       "518            233        16619       285358         34625  \n",
       "519            136        16625       285465         34590  \n",
       "\n",
       "[520 rows x 10 columns]"
      ]
     },
     "execution_count": 25,
     "metadata": {},
     "output_type": "execute_result"
    }
   ],
   "source": [
    "#import data and show in Dataframe apperance\n",
    "data=pd.read_csv(\"covid19_cases in Egypt.csv\")\n",
    "df=pd.DataFrame(data)\n",
    "df"
   ]
  },
  {
   "cell_type": "code",
   "execution_count": null,
   "metadata": {},
   "outputs": [],
   "source": [
    "#then we realized our aim here\n",
    "''''\n",
    "total cases=\n",
    "  Total Recoverd+\n",
    "  Total Death+\n",
    "  Active Cases\n",
    "''''"
   ]
  },
  {
   "cell_type": "code",
   "execution_count": 26,
   "metadata": {},
   "outputs": [
    {
     "name": "stdout",
     "output_type": "stream",
     "text": [
      "<class 'pandas.core.frame.DataFrame'>\n",
      "RangeIndex: 520 entries, 0 to 519\n",
      "Data columns (total 10 columns):\n",
      " #   Column          Non-Null Count  Dtype \n",
      "---  ------          --------------  ----- \n",
      " 0   Date            520 non-null    object\n",
      " 1   Day             520 non-null    object\n",
      " 2   Month           520 non-null    object\n",
      " 3   New Cases       520 non-null    int64 \n",
      " 4   New Death       520 non-null    int64 \n",
      " 5   Total Recoverd  520 non-null    int64 \n",
      " 6   New Recovered   520 non-null    int64 \n",
      " 7   Total Death     520 non-null    int64 \n",
      " 8   Total Cases     520 non-null    int64 \n",
      " 9   Active Cases    520 non-null    int64 \n",
      "dtypes: int64(7), object(3)\n",
      "memory usage: 40.8+ KB\n"
     ]
    }
   ],
   "source": [
    "data.info()"
   ]
  },
  {
   "cell_type": "code",
   "execution_count": 27,
   "metadata": {},
   "outputs": [
    {
     "data": {
      "text/html": [
       "<div>\n",
       "<style scoped>\n",
       "    .dataframe tbody tr th:only-of-type {\n",
       "        vertical-align: middle;\n",
       "    }\n",
       "\n",
       "    .dataframe tbody tr th {\n",
       "        vertical-align: top;\n",
       "    }\n",
       "\n",
       "    .dataframe thead th {\n",
       "        text-align: right;\n",
       "    }\n",
       "</style>\n",
       "<table border=\"1\" class=\"dataframe\">\n",
       "  <thead>\n",
       "    <tr style=\"text-align: right;\">\n",
       "      <th></th>\n",
       "      <th>New Cases</th>\n",
       "      <th>New Death</th>\n",
       "      <th>Total Recoverd</th>\n",
       "      <th>New Recovered</th>\n",
       "      <th>Total Death</th>\n",
       "      <th>Total Cases</th>\n",
       "      <th>Active Cases</th>\n",
       "    </tr>\n",
       "  </thead>\n",
       "  <tbody>\n",
       "    <tr>\n",
       "      <th>count</th>\n",
       "      <td>520.000000</td>\n",
       "      <td>520.000000</td>\n",
       "      <td>520.000000</td>\n",
       "      <td>520.000000</td>\n",
       "      <td>520.000000</td>\n",
       "      <td>520.000000</td>\n",
       "      <td>520.000000</td>\n",
       "    </tr>\n",
       "    <tr>\n",
       "      <th>mean</th>\n",
       "      <td>548.759615</td>\n",
       "      <td>31.967308</td>\n",
       "      <td>104719.921154</td>\n",
       "      <td>450.430769</td>\n",
       "      <td>7889.380769</td>\n",
       "      <td>138942.400000</td>\n",
       "      <td>26333.098077</td>\n",
       "    </tr>\n",
       "    <tr>\n",
       "      <th>std</th>\n",
       "      <td>430.295939</td>\n",
       "      <td>21.800569</td>\n",
       "      <td>72276.053252</td>\n",
       "      <td>320.413442</td>\n",
       "      <td>5266.588151</td>\n",
       "      <td>88774.725264</td>\n",
       "      <td>18789.573409</td>\n",
       "    </tr>\n",
       "    <tr>\n",
       "      <th>min</th>\n",
       "      <td>9.000000</td>\n",
       "      <td>0.000000</td>\n",
       "      <td>26.000000</td>\n",
       "      <td>0.000000</td>\n",
       "      <td>2.000000</td>\n",
       "      <td>126.000000</td>\n",
       "      <td>98.000000</td>\n",
       "    </tr>\n",
       "    <tr>\n",
       "      <th>25%</th>\n",
       "      <td>156.500000</td>\n",
       "      <td>13.000000</td>\n",
       "      <td>30818.250000</td>\n",
       "      <td>133.000000</td>\n",
       "      <td>4470.000000</td>\n",
       "      <td>90246.000000</td>\n",
       "      <td>6986.000000</td>\n",
       "    </tr>\n",
       "    <tr>\n",
       "      <th>50%</th>\n",
       "      <td>503.500000</td>\n",
       "      <td>28.000000</td>\n",
       "      <td>102657.000000</td>\n",
       "      <td>431.500000</td>\n",
       "      <td>6643.000000</td>\n",
       "      <td>115726.000000</td>\n",
       "      <td>27734.000000</td>\n",
       "    </tr>\n",
       "    <tr>\n",
       "      <th>75%</th>\n",
       "      <td>832.500000</td>\n",
       "      <td>48.000000</td>\n",
       "      <td>158030.250000</td>\n",
       "      <td>666.500000</td>\n",
       "      <td>12332.750000</td>\n",
       "      <td>208280.500000</td>\n",
       "      <td>41785.000000</td>\n",
       "    </tr>\n",
       "    <tr>\n",
       "      <th>max</th>\n",
       "      <td>1774.000000</td>\n",
       "      <td>97.000000</td>\n",
       "      <td>234250.000000</td>\n",
       "      <td>1716.000000</td>\n",
       "      <td>16625.000000</td>\n",
       "      <td>285465.000000</td>\n",
       "      <td>56636.000000</td>\n",
       "    </tr>\n",
       "  </tbody>\n",
       "</table>\n",
       "</div>"
      ],
      "text/plain": [
       "         New Cases   New Death  Total Recoverd  New Recovered   Total Death  \\\n",
       "count   520.000000  520.000000      520.000000     520.000000    520.000000   \n",
       "mean    548.759615   31.967308   104719.921154     450.430769   7889.380769   \n",
       "std     430.295939   21.800569    72276.053252     320.413442   5266.588151   \n",
       "min       9.000000    0.000000       26.000000       0.000000      2.000000   \n",
       "25%     156.500000   13.000000    30818.250000     133.000000   4470.000000   \n",
       "50%     503.500000   28.000000   102657.000000     431.500000   6643.000000   \n",
       "75%     832.500000   48.000000   158030.250000     666.500000  12332.750000   \n",
       "max    1774.000000   97.000000   234250.000000    1716.000000  16625.000000   \n",
       "\n",
       "         Total Cases  Active Cases  \n",
       "count     520.000000    520.000000  \n",
       "mean   138942.400000  26333.098077  \n",
       "std     88774.725264  18789.573409  \n",
       "min       126.000000     98.000000  \n",
       "25%     90246.000000   6986.000000  \n",
       "50%    115726.000000  27734.000000  \n",
       "75%    208280.500000  41785.000000  \n",
       "max    285465.000000  56636.000000  "
      ]
     },
     "execution_count": 27,
     "metadata": {},
     "output_type": "execute_result"
    }
   ],
   "source": [
    "data.describe()\n",
    "#count here means num of rows\n",
    "#it is very important to give you quick information about your data"
   ]
  },
  {
   "cell_type": "code",
   "execution_count": 21,
   "metadata": {},
   "outputs": [
    {
     "data": {
      "text/plain": [
       "0"
      ]
     },
     "execution_count": 21,
     "metadata": {},
     "output_type": "execute_result"
    }
   ],
   "source": [
    "data.duplicated().sum()\n",
    "#check duplicates"
   ]
  },
  {
   "cell_type": "code",
   "execution_count": 73,
   "metadata": {},
   "outputs": [
    {
     "data": {
      "text/plain": [
       "0     2020-03-15\n",
       "1     2020-03-16\n",
       "2     2020-03-17\n",
       "3     2020-03-18\n",
       "4     2020-03-19\n",
       "         ...    \n",
       "515   2021-12-08\n",
       "516   2021-08-13\n",
       "517   2021-08-14\n",
       "518   2021-08-15\n",
       "519   2021-08-16\n",
       "Name: Date, Length: 520, dtype: datetime64[ns]"
      ]
     },
     "execution_count": 73,
     "metadata": {},
     "output_type": "execute_result"
    }
   ],
   "source": [
    "#fix our Date time\n",
    "df[\"Date\"]=pd.to_datetime(df.Date)\n",
    "df[\"Date\"]"
   ]
  },
  {
   "cell_type": "code",
   "execution_count": 36,
   "metadata": {},
   "outputs": [
    {
     "data": {
      "text/plain": [
       "Day               SundayMondayTuesdayWednesdayThursdayFridaySatu...\n",
       "Month             MarchMarchMarchMarchMarchMarchMarchMarchMarchM...\n",
       "New Cases                                                    285355\n",
       "New Death                                                     16623\n",
       "Total Recoverd                                             54454359\n",
       "New Recovered                                                234224\n",
       "Total Death                                                 4102478\n",
       "Total Cases                                                72250048\n",
       "Active Cases                                               13693211\n",
       "dtype: object"
      ]
     },
     "execution_count": 36,
     "metadata": {},
     "output_type": "execute_result"
    }
   ],
   "source": [
    "\n",
    "df.sum()"
   ]
  },
  {
   "cell_type": "code",
   "execution_count": 51,
   "metadata": {},
   "outputs": [],
   "source": [
    "sum_data={'Total Recoverd':54454359,\n",
    "'Total Death':4102478,\n",
    "'Active Cases':13693211\n",
    "}"
   ]
  },
  {
   "cell_type": "code",
   "execution_count": 55,
   "metadata": {},
   "outputs": [],
   "source": [
    "percentage=[]\n",
    "for values in sum_data.values():\n",
    "    x=(values/72250048)*100\n",
    "    percentage.append(x)"
   ]
  },
  {
   "cell_type": "code",
   "execution_count": 56,
   "metadata": {},
   "outputs": [
    {
     "data": {
      "text/plain": [
       "[75.36930494496004, 5.678166469868643, 18.952528585171322]"
      ]
     },
     "execution_count": 56,
     "metadata": {},
     "output_type": "execute_result"
    }
   ],
   "source": [
    "percentage\n",
    "#so we will Round to the nearest integer\n",
    "#Total Recoverd=75.5%,Total Death=5.5%,Active Cases=19%"
   ]
  },
  {
   "cell_type": "code",
   "execution_count": 54,
   "metadata": {},
   "outputs": [
    {
     "data": {
      "image/png": "[encoded data removed]",
      "text/plain": [
       "<Figure size 432x288 with 1 Axes>"
      ]
     },
     "metadata": {},
     "output_type": "display_data"
    }
   ],
   "source": [
    "mylabels = [\"Total Recoverd 75.5%\", \"Total Death 5.5%\", \"Active Cases 19%\"]\n",
    "myexplode = [0.2,0.2,0.2]\n",
    "plt.pie(sum_data.values(),labels = mylabels,explode = myexplode,shadow = True)\n",
    "plt.legend( title = \"Total Cases\",bbox_to_anchor =(1, 1), ncol = 2)\n",
    "plt.show() "
   ]
  },
  {
   "cell_type": "code",
   "execution_count": 105,
   "metadata": {},
   "outputs": [
    {
     "data": {
      "text/plain": [
       "0      2020\n",
       "1      2020\n",
       "2      2020\n",
       "3      2020\n",
       "4      2020\n",
       "       ... \n",
       "515    2021\n",
       "516    2021\n",
       "517    2021\n",
       "518    2021\n",
       "519    2021\n",
       "Name: year, Length: 520, dtype: object"
      ]
     },
     "execution_count": 105,
     "metadata": {},
     "output_type": "execute_result"
    }
   ],
   "source": [
    "df['year'] = df['Date'].dt.strftime('%Y')\n",
    "#another way ==>df['Date'].dt.to_period('Y')\n",
    "df['year']"
   ]
  },
  {
   "cell_type": "code",
   "execution_count": 106,
   "metadata": {},
   "outputs": [
    {
     "data": {
      "image/png": "[encoded data removed]",
      "text/plain": [
       "<Figure size 432x288 with 1 Axes>"
      ]
     },
     "metadata": {
      "needs_background": "light"
     },
     "output_type": "display_data"
    }
   ],
   "source": [
    "x = df['year']\n",
    "y = df[\"Total Death\"]\n",
    "\n",
    "plt.title(\"Total Death per Year\")\n",
    "plt.bar(x,y,color ='maroon')\n",
    "plt.show()"
   ]
  },
  {
   "cell_type": "code",
   "execution_count": 107,
   "metadata": {},
   "outputs": [
    {
     "data": {
      "image/png": "[encoded data removed]",
      "text/plain": [
       "<Figure size 720x504 with 1 Axes>"
      ]
     },
     "metadata": {
      "needs_background": "light"
     },
     "output_type": "display_data"
    }
   ],
   "source": [
    "#coz i know the percentage of total death is low , i visualize it with it alone first \n",
    "#then i compare it with total Recoverd \n",
    "fig = plt.subplots(figsize =(10, 7))\n",
    "width = 0.1\n",
    "\n",
    "p1 = plt.bar(df['year'], df[\"Total Death\"], width )\n",
    "p2 = plt.bar(df['year'], df['Total Recoverd'], width,\n",
    "             bottom =df[\"Total Death\"])\n",
    "plt.legend((p1[0], p2[0]), ('Total Death', 'Total Recoverd'))\n",
    " \n",
    "plt.show()"
   ]
  },
  {
   "cell_type": "code",
   "execution_count": 109,
   "metadata": {},
   "outputs": [],
   "source": [
    "#in the end we should save the new data\n",
    "df.to_csv('new edition-covid project.csv',index=False)"
   ]
  },
  {
   "cell_type": "code",
   "execution_count": null,
   "metadata": {},
   "outputs": [],
   "source": []
  }
 ],
 "metadata": {
  "kernelspec": {
   "display_name": "Python 3 (ipykernel)",
   "language": "python",
   "name": "python3"
  },
  "language_info": {
   "codemirror_mode": {
    "name": "ipython",
    "version": 3
   },
   "file_extension": ".py",
   "mimetype": "text/x-python",
   "name": "python",
   "nbconvert_exporter": "python",
   "pygments_lexer": "ipython3",
   "version": "3.7.6"
  }
 },
 "nbformat": 4,
 "nbformat_minor": 4
}
